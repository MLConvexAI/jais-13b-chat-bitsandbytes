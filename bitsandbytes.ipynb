{
 "cells": [
  {
   "cell_type": "code",
   "execution_count": null,
   "id": "e7cabf74-0018-4eae-bb90-ccae6c841b4a",
   "metadata": {},
   "outputs": [],
   "source": [
    "# jais-13b-chat bitsandbytes 8 bit and 4 bit quantizations. Testing is made using gradio app"
   ]
  },
  {
   "cell_type": "code",
   "execution_count": null,
   "id": "dbf602c7-7533-498e-8ff2-12ca5b63f0bc",
   "metadata": {},
   "outputs": [],
   "source": []
  },
  {
   "cell_type": "code",
   "execution_count": 1,
   "id": "c448b10a-29cb-4476-827a-b21194a6ee9f",
   "metadata": {
    "tags": []
   },
   "outputs": [],
   "source": [
    "from transformers import AutoModelForCausalLM, BitsAndBytesConfig"
   ]
  },
  {
   "cell_type": "code",
   "execution_count": 5,
   "id": "ce86340b-77c0-445d-a4e0-7c519140041b",
   "metadata": {
    "tags": []
   },
   "outputs": [],
   "source": [
    "model_id = \"core42/jais-13b-chat\""
   ]
  },
  {
   "cell_type": "code",
   "execution_count": 2,
   "id": "1ad20fd8-71a9-4eb5-9cb1-da7487d61252",
   "metadata": {
    "tags": []
   },
   "outputs": [],
   "source": [
    "from transformers import AutoTokenizer"
   ]
  },
  {
   "cell_type": "code",
   "execution_count": 3,
   "id": "78e6b783-b2b0-4e3c-93c2-1729eb4cff3e",
   "metadata": {
    "tags": []
   },
   "outputs": [],
   "source": [
    "import torch"
   ]
  },
  {
   "cell_type": "code",
   "execution_count": 4,
   "id": "b735cbf6-ae8a-4244-9b72-a40771918f8b",
   "metadata": {
    "tags": []
   },
   "outputs": [],
   "source": [
    "quantization_config = BitsAndBytesConfig(load_in_8bit=True)"
   ]
  },
  {
   "cell_type": "code",
   "execution_count": 6,
   "id": "2d773145-70fc-41e8-ac06-79063207c91c",
   "metadata": {
    "tags": []
   },
   "outputs": [
    {
     "data": {
      "application/vnd.jupyter.widget-view+json": {
       "model_id": "b437af97e71146e19e5e9ee13c09b793",
       "version_major": 2,
       "version_minor": 0
      },
      "text/plain": [
       "Loading checkpoint shards:   0%|          | 0/6 [00:00<?, ?it/s]"
      ]
     },
     "metadata": {},
     "output_type": "display_data"
    }
   ],
   "source": [
    "# 8 bit quantization\n",
    "model_8bit = AutoModelForCausalLM.from_pretrained(\n",
    "    model_id, \n",
    "    quantization_config=quantization_config,\n",
    "    trust_remote_code=True,\n",
    "    device_map=\"auto\"\n",
    ")"
   ]
  },
  {
   "cell_type": "code",
   "execution_count": 7,
   "id": "37dd4bed-c64a-4a7e-8fb4-a80559f1b9e0",
   "metadata": {
    "tags": []
   },
   "outputs": [],
   "source": [
    "tokenizer = AutoTokenizer.from_pretrained(model_id)"
   ]
  },
  {
   "cell_type": "code",
   "execution_count": null,
   "id": "d7a9d34f-cf2e-4d7b-9126-bf6fbd35859d",
   "metadata": {},
   "outputs": [],
   "source": []
  },
  {
   "cell_type": "code",
   "execution_count": 5,
   "id": "b66f99ef-59ca-4bb8-9c55-01f138af0078",
   "metadata": {
    "tags": []
   },
   "outputs": [],
   "source": [
    "quantization_config = BitsAndBytesConfig(load_in_4bit=True, bnb_4bit_compute_dtype=torch.bfloat16)"
   ]
  },
  {
   "cell_type": "code",
   "execution_count": 7,
   "id": "c8cf6d3e-efef-4191-92f5-566bfa0734a4",
   "metadata": {
    "tags": []
   },
   "outputs": [
    {
     "data": {
      "application/vnd.jupyter.widget-view+json": {
       "model_id": "46f7275267c845bbb2e7ce60ee725de7",
       "version_major": 2,
       "version_minor": 0
      },
      "text/plain": [
       "Loading checkpoint shards:   0%|          | 0/6 [00:00<?, ?it/s]"
      ]
     },
     "metadata": {},
     "output_type": "display_data"
    }
   ],
   "source": [
    "# 4 bit quantization\n",
    "model_4bit = AutoModelForCausalLM.from_pretrained(\n",
    "    model_id, \n",
    "    quantization_config=quantization_config,\n",
    "    trust_remote_code=True,\n",
    "    device_map=\"auto\"\n",
    ")"
   ]
  },
  {
   "cell_type": "code",
   "execution_count": null,
   "id": "76eee8ee-f6de-41d4-9090-9d6cc3080be1",
   "metadata": {},
   "outputs": [],
   "source": []
  },
  {
   "cell_type": "code",
   "execution_count": null,
   "id": "a6f9b668-08e0-416a-8319-5e1b3b61adb3",
   "metadata": {},
   "outputs": [],
   "source": [
    "# pushing the 8b and 4b models to Huggingface HUB"
   ]
  },
  {
   "cell_type": "code",
   "execution_count": 8,
   "id": "75b0eaa3-b2dc-4436-9423-fe70a96b1c53",
   "metadata": {
    "tags": []
   },
   "outputs": [
    {
     "data": {
      "application/vnd.jupyter.widget-view+json": {
       "model_id": "1e69d5ad343e48ed8cb1074ced01df53",
       "version_major": 2,
       "version_minor": 0
      },
      "text/plain": [
       "VBox(children=(HTML(value='<center> <img\\nsrc=https://huggingface.co/front/assets/huggingface_logo-noborder.sv…"
      ]
     },
     "metadata": {},
     "output_type": "display_data"
    }
   ],
   "source": [
    "from huggingface_hub import notebook_login\n",
    "notebook_login()"
   ]
  },
  {
   "cell_type": "code",
   "execution_count": 9,
   "id": "15c08c61-f411-4397-83de-443eafb17860",
   "metadata": {
    "tags": []
   },
   "outputs": [
    {
     "data": {
      "application/vnd.jupyter.widget-view+json": {
       "model_id": "22ba7bbedb774146b8739a3999171077",
       "version_major": 2,
       "version_minor": 0
      },
      "text/plain": [
       "README.md:   0%|          | 0.00/31.0 [00:00<?, ?B/s]"
      ]
     },
     "metadata": {},
     "output_type": "display_data"
    },
    {
     "data": {
      "application/vnd.jupyter.widget-view+json": {
       "model_id": "974128c110a14b978427aed2150d3302",
       "version_major": 2,
       "version_minor": 0
      },
      "text/plain": [
       "Upload 3 LFS files:   0%|          | 0/3 [00:00<?, ?it/s]"
      ]
     },
     "metadata": {},
     "output_type": "display_data"
    },
    {
     "data": {
      "application/vnd.jupyter.widget-view+json": {
       "model_id": "0d054d35c482468ead3aeeb989e108d0",
       "version_major": 2,
       "version_minor": 0
      },
      "text/plain": [
       "pytorch_model-00001-of-00003.bin:   0%|          | 0.00/4.96G [00:00<?, ?B/s]"
      ]
     },
     "metadata": {},
     "output_type": "display_data"
    },
    {
     "data": {
      "application/vnd.jupyter.widget-view+json": {
       "model_id": "baca20bd066941abbd313f5909a58bbc",
       "version_major": 2,
       "version_minor": 0
      },
      "text/plain": [
       "pytorch_model-00002-of-00003.bin:   0%|          | 0.00/4.97G [00:00<?, ?B/s]"
      ]
     },
     "metadata": {},
     "output_type": "display_data"
    },
    {
     "data": {
      "application/vnd.jupyter.widget-view+json": {
       "model_id": "1b0f425ca2bb4646b23dcb27f07d2cd3",
       "version_major": 2,
       "version_minor": 0
      },
      "text/plain": [
       "pytorch_model-00003-of-00003.bin:   0%|          | 0.00/3.53G [00:00<?, ?B/s]"
      ]
     },
     "metadata": {},
     "output_type": "display_data"
    },
    {
     "data": {
      "text/plain": [
       "CommitInfo(commit_url='https://huggingface.co/mlconvexai/jais-13b-chat_bitsandbytes_8bit/commit/45bae7d4b78b30a73c775d5d28af77dc6b31a517', commit_message='Upload model', commit_description='', oid='45bae7d4b78b30a73c775d5d28af77dc6b31a517', pr_url=None, pr_revision=None, pr_num=None)"
      ]
     },
     "execution_count": 9,
     "metadata": {},
     "output_type": "execute_result"
    }
   ],
   "source": [
    "model_8bit.push_to_hub(\"mlconvexai/jais-13b-chat_bitsandbytes_8bit\", safe_serialization=False)"
   ]
  },
  {
   "cell_type": "code",
   "execution_count": 10,
   "id": "f1f21920-1490-43fb-af7d-952bfcd8439d",
   "metadata": {
    "tags": []
   },
   "outputs": [
    {
     "data": {
      "text/plain": [
       "CommitInfo(commit_url='https://huggingface.co/mlconvexai/jais-13b-chat_bitsandbytes_8bit/commit/6d386c0ad5aa42eaba8788e33b3a14a7af9e53a1', commit_message='Upload tokenizer', commit_description='', oid='6d386c0ad5aa42eaba8788e33b3a14a7af9e53a1', pr_url=None, pr_revision=None, pr_num=None)"
      ]
     },
     "execution_count": 10,
     "metadata": {},
     "output_type": "execute_result"
    }
   ],
   "source": [
    "tokenizer.push_to_hub(\"mlconvexai/jais-13b-chat_bitsandbytes_8bit\")"
   ]
  },
  {
   "cell_type": "code",
   "execution_count": 18,
   "id": "bcaf0375-4982-43f9-a29f-086e18abaaff",
   "metadata": {
    "tags": []
   },
   "outputs": [
    {
     "data": {
      "application/vnd.jupyter.widget-view+json": {
       "model_id": "a8f88a667fb8499eafb0ad580e7dd836",
       "version_major": 2,
       "version_minor": 0
      },
      "text/plain": [
       "README.md:   0%|          | 0.00/31.0 [00:00<?, ?B/s]"
      ]
     },
     "metadata": {},
     "output_type": "display_data"
    },
    {
     "data": {
      "application/vnd.jupyter.widget-view+json": {
       "model_id": "45455f5a51fd4c998404cb929b0d1440",
       "version_major": 2,
       "version_minor": 0
      },
      "text/plain": [
       "Upload 2 LFS files:   0%|          | 0/2 [00:00<?, ?it/s]"
      ]
     },
     "metadata": {},
     "output_type": "display_data"
    },
    {
     "data": {
      "application/vnd.jupyter.widget-view+json": {
       "model_id": "e027c7cac188483087b5128d14e265d5",
       "version_major": 2,
       "version_minor": 0
      },
      "text/plain": [
       "pytorch_model-00001-of-00002.bin:   0%|          | 0.00/4.99G [00:00<?, ?B/s]"
      ]
     },
     "metadata": {},
     "output_type": "display_data"
    },
    {
     "data": {
      "application/vnd.jupyter.widget-view+json": {
       "model_id": "0bf742b8f45e40098068a77b9791b849",
       "version_major": 2,
       "version_minor": 0
      },
      "text/plain": [
       "pytorch_model-00002-of-00002.bin:   0%|          | 0.00/2.97G [00:00<?, ?B/s]"
      ]
     },
     "metadata": {},
     "output_type": "display_data"
    },
    {
     "data": {
      "text/plain": [
       "CommitInfo(commit_url='https://huggingface.co/mlconvexai/jais-13b-chat_bitsandbytes_4bit/commit/ef1da0005dc83bb70f72656e2b57c8bb9e45f109', commit_message='Upload model', commit_description='', oid='ef1da0005dc83bb70f72656e2b57c8bb9e45f109', pr_url=None, pr_revision=None, pr_num=None)"
      ]
     },
     "execution_count": 18,
     "metadata": {},
     "output_type": "execute_result"
    }
   ],
   "source": [
    "model_4bit.push_to_hub(\"mlconvexai/jais-13b-chat_bitsandbytes_4bit\", safe_serialization=False)"
   ]
  },
  {
   "cell_type": "code",
   "execution_count": 12,
   "id": "837708c4-b3ed-4bca-8b37-9ec656c8c617",
   "metadata": {
    "tags": []
   },
   "outputs": [
    {
     "data": {
      "text/plain": [
       "CommitInfo(commit_url='https://huggingface.co/mlconvexai/jais-13b-chat_bitsandbytes_4bit/commit/607a05c885f2c092e6e1f4f8211514b9832fbc5a', commit_message='Upload tokenizer', commit_description='', oid='607a05c885f2c092e6e1f4f8211514b9832fbc5a', pr_url=None, pr_revision=None, pr_num=None)"
      ]
     },
     "execution_count": 12,
     "metadata": {},
     "output_type": "execute_result"
    }
   ],
   "source": [
    "tokenizer.push_to_hub(\"mlconvexai/jais-13b-chat_bitsandbytes_4bit\")"
   ]
  },
  {
   "cell_type": "code",
   "execution_count": null,
   "id": "53e3fa6e-efa6-4e3d-b9cd-d2c91a37254e",
   "metadata": {},
   "outputs": [],
   "source": []
  },
  {
   "cell_type": "code",
   "execution_count": null,
   "id": "8e7ca8cc-fa88-4cf8-8cb2-7068ccf6eb6a",
   "metadata": {},
   "outputs": [],
   "source": []
  },
  {
   "cell_type": "code",
   "execution_count": null,
   "id": "c7cb076b-2cc2-41d9-a7c1-6683fcd8a614",
   "metadata": {},
   "outputs": [],
   "source": [
    "# import original model"
   ]
  },
  {
   "cell_type": "code",
   "execution_count": 1,
   "id": "33309a9a-91fd-47a0-bb38-d9819fcff900",
   "metadata": {
    "tags": []
   },
   "outputs": [],
   "source": [
    "from transformers import AutoModelForCausalLM, AutoTokenizer"
   ]
  },
  {
   "cell_type": "code",
   "execution_count": 4,
   "id": "9ddefcef-14ed-4301-8858-c83ee4a1e30d",
   "metadata": {
    "tags": []
   },
   "outputs": [],
   "source": [
    "model_id = \"core42/jais-13b-chat\""
   ]
  },
  {
   "cell_type": "code",
   "execution_count": 5,
   "id": "d5f1b02a-aeff-43dc-905c-1c5e9ea7a1d8",
   "metadata": {
    "tags": []
   },
   "outputs": [
    {
     "data": {
      "application/vnd.jupyter.widget-view+json": {
       "model_id": "ca6d9db62f444f758c9d29fc75eae169",
       "version_major": 2,
       "version_minor": 0
      },
      "text/plain": [
       "Loading checkpoint shards:   0%|          | 0/6 [00:00<?, ?it/s]"
      ]
     },
     "metadata": {},
     "output_type": "display_data"
    }
   ],
   "source": [
    "model = AutoModelForCausalLM.from_pretrained(model_id, trust_remote_code=True, device_map=\"auto\")"
   ]
  },
  {
   "cell_type": "code",
   "execution_count": 6,
   "id": "7822fd8f-d137-452d-9c6e-2e4a63b547a6",
   "metadata": {
    "tags": []
   },
   "outputs": [],
   "source": [
    "tokenizer = AutoTokenizer.from_pretrained(model_id)"
   ]
  },
  {
   "cell_type": "code",
   "execution_count": 24,
   "id": "51a424e3-62f0-40c4-8b1d-7c2ebc6299ff",
   "metadata": {
    "tags": []
   },
   "outputs": [
    {
     "name": "stdout",
     "output_type": "stream",
     "text": [
      "The model size is 52.25102016 GB\n"
     ]
    }
   ],
   "source": [
    "module_sizes = model.get_memory_footprint()\n",
    "print(f\"The model size is {module_sizes * 1e-9} GB\")"
   ]
  },
  {
   "cell_type": "code",
   "execution_count": null,
   "id": "3981a017-4473-4c99-ad80-72f11751b721",
   "metadata": {},
   "outputs": [],
   "source": []
  },
  {
   "cell_type": "code",
   "execution_count": null,
   "id": "1ff9a9af-1ba7-4c7c-bb81-a64990a1da67",
   "metadata": {},
   "outputs": [],
   "source": [
    "# import 8b model"
   ]
  },
  {
   "cell_type": "code",
   "execution_count": 7,
   "id": "8f90ceb5-afd2-47b8-8f42-5815f8d07a26",
   "metadata": {
    "tags": []
   },
   "outputs": [],
   "source": [
    "model_id_8b = \"mlconvexai/jais-13b-chat_bitsandbytes_8bit\""
   ]
  },
  {
   "cell_type": "code",
   "execution_count": 8,
   "id": "969e1597-f46e-4ed8-b760-2632ff2d5bca",
   "metadata": {
    "tags": []
   },
   "outputs": [
    {
     "name": "stderr",
     "output_type": "stream",
     "text": [
      "Unused kwargs: ['_load_in_4bit', '_load_in_8bit', 'quant_method']. These kwargs are not used in <class 'transformers.utils.quantization_config.BitsAndBytesConfig'>.\n"
     ]
    },
    {
     "data": {
      "application/vnd.jupyter.widget-view+json": {
       "model_id": "4f8f17170e4d41dd9966e3796acd8f37",
       "version_major": 2,
       "version_minor": 0
      },
      "text/plain": [
       "Loading checkpoint shards:   0%|          | 0/3 [00:00<?, ?it/s]"
      ]
     },
     "metadata": {},
     "output_type": "display_data"
    }
   ],
   "source": [
    "model_8b = AutoModelForCausalLM.from_pretrained(model_id_8b, trust_remote_code=True, device_map=\"auto\")"
   ]
  },
  {
   "cell_type": "code",
   "execution_count": 25,
   "id": "a86b8d87-b726-45ba-91eb-797bc689971b",
   "metadata": {
    "tags": []
   },
   "outputs": [
    {
     "name": "stdout",
     "output_type": "stream",
     "text": [
      "The model size is 13.633447360000002 GB\n"
     ]
    }
   ],
   "source": [
    "module_sizes = model_8b.get_memory_footprint()\n",
    "print(f\"The model size is {module_sizes * 1e-9} GB\")"
   ]
  },
  {
   "cell_type": "code",
   "execution_count": null,
   "id": "9ec72593-009c-41aa-9ba3-2cbd5bb7731d",
   "metadata": {},
   "outputs": [],
   "source": []
  },
  {
   "cell_type": "code",
   "execution_count": null,
   "id": "fc71d5cf-e4c6-4bfe-9f6a-54f6538c365b",
   "metadata": {},
   "outputs": [],
   "source": [
    "# import 4b model"
   ]
  },
  {
   "cell_type": "code",
   "execution_count": 10,
   "id": "8bb9fabc-9947-4f70-9a34-ec643511f99f",
   "metadata": {
    "tags": []
   },
   "outputs": [],
   "source": [
    "model_id_4b = \"mlconvexai/jais-13b-chat_bitsandbytes_4bit\""
   ]
  },
  {
   "cell_type": "code",
   "execution_count": 11,
   "id": "018fad87-f71a-4bb2-b38b-07ed6063707b",
   "metadata": {
    "tags": []
   },
   "outputs": [
    {
     "name": "stderr",
     "output_type": "stream",
     "text": [
      "Unused kwargs: ['_load_in_4bit', '_load_in_8bit', 'quant_method']. These kwargs are not used in <class 'transformers.utils.quantization_config.BitsAndBytesConfig'>.\n"
     ]
    },
    {
     "data": {
      "application/vnd.jupyter.widget-view+json": {
       "model_id": "74211211b82641f6ab238212290d1e32",
       "version_major": 2,
       "version_minor": 0
      },
      "text/plain": [
       "Loading checkpoint shards:   0%|          | 0/2 [00:00<?, ?it/s]"
      ]
     },
     "metadata": {},
     "output_type": "display_data"
    }
   ],
   "source": [
    "model_4b = AutoModelForCausalLM.from_pretrained(model_id_4b, trust_remote_code=True, device_map=\"auto\")"
   ]
  },
  {
   "cell_type": "code",
   "execution_count": 12,
   "id": "d4e202a9-c41f-4632-9ed1-b33aff95b9f9",
   "metadata": {
    "tags": []
   },
   "outputs": [],
   "source": [
    "tokenizer_4b = AutoTokenizer.from_pretrained(model_id_4b)"
   ]
  },
  {
   "cell_type": "code",
   "execution_count": 26,
   "id": "3eaa79e2-faeb-4452-b373-2655631de96e",
   "metadata": {
    "tags": []
   },
   "outputs": [
    {
     "name": "stdout",
     "output_type": "stream",
     "text": [
      "The model size is 7.33533536 GB\n"
     ]
    }
   ],
   "source": [
    "module_sizes = model_4b.get_memory_footprint()\n",
    "print(f\"The model size is {module_sizes * 1e-9} GB\")"
   ]
  },
  {
   "cell_type": "code",
   "execution_count": null,
   "id": "ce53e321-6c15-4b28-97f8-07bcb7ca4d54",
   "metadata": {},
   "outputs": [],
   "source": []
  },
  {
   "cell_type": "code",
   "execution_count": null,
   "id": "f0e3fe5c-6414-4718-a5d4-f96ff447d978",
   "metadata": {},
   "outputs": [],
   "source": [
    "# create gradio application and test"
   ]
  },
  {
   "cell_type": "code",
   "execution_count": null,
   "id": "4afafc99-30ba-4099-8da4-4db61bf75986",
   "metadata": {},
   "outputs": [],
   "source": [
    "import torch"
   ]
  },
  {
   "cell_type": "code",
   "execution_count": null,
   "id": "daf3e8a7-8ee1-49b4-9459-ea8e7b5150c0",
   "metadata": {},
   "outputs": [],
   "source": [
    "device = \"cuda\" if torch.cuda.is_available() else \"cpu\""
   ]
  },
  {
   "cell_type": "code",
   "execution_count": null,
   "id": "a05b9f79-6dba-40c7-bded-df3cb39ef562",
   "metadata": {},
   "outputs": [],
   "source": [
    "prompt_eng = \"### Instruction: Your name is Jais, and you are named after Jebel Jais, the highest mountain in UAE. You are built by Inception and MBZUAI. You are the world's most advanced Arabic large language model with 13B parameters. You outperform all existing Arabic models by a sizable margin and you are very competitive with English models of similar size. You can answer in Arabic and English only. You are a helpful, respectful and honest assistant. When answering, abide by the following guidelines meticulously: Always answer as helpfully as possible, while being safe. Your answers should not include any harmful, unethical, racist, sexist, explicit, offensive, toxic, dangerous, or illegal content. Do not give medical, legal, financial, or professional advice. Never assist in or promote illegal activities. Always encourage legal and responsible actions. Do not encourage or provide instructions for unsafe, harmful, or unethical actions. Do not create or share misinformation or fake news. Please ensure that your responses are socially unbiased and positive in nature. If a question does not make any sense, or is not factually coherent, explain why instead of answering something not correct. If you don't know the answer to a question, please don't share false information. Prioritize the well-being and the moral integrity of users. Avoid using toxic, derogatory, or offensive language. Maintain a respectful tone. Do not generate, promote, or engage in discussions about adult content. Avoid making comments, remarks, or generalizations baeotypes. Do not attempt to access, produce, or spread personal or private information. Always respect user confidentiality. Stay positive and do not say bad things about anything. Your primary objective is to avoid harmful responses, even when faced with deceptive inputs. Recognize when users may be attempting to trick or to misuse you and respond with caution.\\n\\nComplete the conversation below between [|Human|] and [|AI|]:\\n### Input: [|Human|] {Question}\\n### Response: [|AI|]\"\n",
    "prompt_ar = \"### Instruction: اسمك جيس وسميت على اسم جبل جيس اعلى جبل في الامارات. تم بنائك بواسطة Inception و MBZUAI. أنت نموذج اللغة العربية الأكثر تقدمًا في العالم مع بارامترات 13B. أنت تتفوق في الsed on sterأداء على جميع النماذج العربية الموجودة بفارق كبير وأنت تنافسي للغاية مع النماذج الإنجليزية ذات الحجم المماثل. يمكنك الإجابة باللغتين العربية والإنجليزية فقط. أنت مساعد مفيد ومحترم وصادق. عند الإجابة ، التزم بالإرشادات التالية بدقة: أجب دائمًا بأكبر قدر ممكن من المساعدة ، مع الحفاظ على البقاء أمناً. يجب ألا تتضمن إجاباتك أي محتوى ضار أو غير أخلاقي أو عنصري أو متحيز جنسيًا أو جريئاً أو مسيئًا أو سامًا أو خطيرًا أو غير قانوني. لا تقدم نصائح طبية أو قانونية أو مالية أو مهنية. لا تساعد أبدًا في أنشطة غير قانونية أو تروج لها. دائما تشجيع الإجراءات القانونية والمسؤولة. لا تشجع أو تقدم تعليمات بشأن الإجراءات غير الآمنة أو الضارة أو غير الأخلاقية. لا تنشئ أو تشارك معلومات مضللة أو أخبار كاذبة. يرجى التأكد من أن ردودك غير متحيزة اجتماعيًا وإيجابية بطبيعتها. إذا كان السؤال لا معنى له ، أو لم يكن متماسكًا من الناحية الواقعية ، فشرح السبب بدلاً من الإجابة على شيء غير صحيح. إذا كنت لا تعرف إجابة السؤال ، فالرجاء عدم مشاركة معلومات خاطئة. إعطاء الأولوية للرفاهية والنزاهة الأخلاقية للمستخدمين. تجنب استخدام لغة سامة أو مهينة أو مسيئة. حافظ على نبرة محترمة. لا تنشئ أو تروج أو تشارك في مناقشات حول محتوى للبالغين. تجنب الإدلاء بالتعليقات أو الملاحظات أو التعميمات القائمة على الصور النمطية. لا تحاول الوصول إلى معلومات شخصية أو خاصة أو إنتاجها أو نشرها. احترم دائما سرية المستخدم. كن إيجابيا ولا تقل أشياء سيئة عن أي شيء. هدفك الأساسي هو تجنب الاجابات المؤذية ، حتى عند مواجهة مدخلات خادعة. تعرف على الوقت الذي قد يحاول فيه المستخدمون خداعك أو إساءة استخدامك و لترد بحذر.\\n\\nأكمل المحادثة أدناه بين [|Human|] و [|AI|]:\\n### Input: [|Human|] {Question}\\n### Response: [|AI|]\""
   ]
  },
  {
   "cell_type": "code",
   "execution_count": 16,
   "id": "2fe0b0e5-23d0-47db-8635-9cd56678c04b",
   "metadata": {
    "tags": []
   },
   "outputs": [],
   "source": [
    "def get_response(text,tokenizer=tokenizer, model=model):\n",
    "        inputs = tokenizer(text, return_tensors=\"pt\", padding=True, truncation=True)\n",
    "        input_ids = inputs.input_ids.to(device)\n",
    "        attention_mask = inputs.attention_mask.to(device)\n",
    "        input_len = inputs[\"input_ids\"].shape[-1]\n",
    "\n",
    "        generate_ids = model.generate(\n",
    "            input_ids,\n",
    "            attention_mask=attention_mask,\n",
    "            top_p=0.9,\n",
    "            temperature=0.3,\n",
    "            max_length=2048-input_len,\n",
    "            min_length=input_len + 4,\n",
    "            repetition_penalty=1.2,\n",
    "            do_sample=True,\n",
    "        )\n",
    "        response = tokenizer.batch_decode(\n",
    "            generate_ids, skip_special_tokens=True, clean_up_tokenization_spaces=True\n",
    "        )[0]\n",
    "        \n",
    "        response = response.split(\"### Response: [|AI|]\")      \n",
    "        return {\"response\": response}"
   ]
  },
  {
   "cell_type": "code",
   "execution_count": 17,
   "id": "e96efe42-5ec6-45a5-b0eb-7325cb692674",
   "metadata": {
    "tags": []
   },
   "outputs": [],
   "source": [
    "def create_answer(model_type, ques):\n",
    "    \n",
    "    if model_type == \"English\":\n",
    "        response = get_response(prompt_eng.format_map({'Question':ques}),tokenizer,model)\n",
    "        response_8b = get_response(prompt_eng.format_map({'Question':ques}),tokenizer_8b,model_8b)\n",
    "        response_4b = get_response(prompt_eng.format_map({'Question':ques}),tokenizer_4b,model_4b)\n",
    "    else:\n",
    "        response = get_response(prompt_ar.format_map({'Question':ques}),tokenizer,model)\n",
    "        response_8b = get_response(prompt_ar.format_map({'Question':ques}),tokenizer_8b,model_8b)\n",
    "        response_4b = get_response(prompt_ar.format_map({'Question':ques}),tokenizer_4b,model_4b)\n",
    "        \n",
    "    response_list = response['response']\n",
    "    object_count = len(response_list)\n",
    "    if object_count > 0:\n",
    "        response_text = response_list[object_count-1].strip()\n",
    "    else:\n",
    "        response_text = \"\"\n",
    "        \n",
    "    response_list_8b = response_8b['response']\n",
    "    object_count_8b = len(response_list_8b)\n",
    "    if object_count_8b > 0:\n",
    "        response_text_8b = response_list_8b[object_count_8b-1].strip()\n",
    "    else:\n",
    "        response_text_8b = \"\"\n",
    "        \n",
    "    response_list_4b = response_4b['response']\n",
    "    object_count_4b = len(response_list_4b)\n",
    "    if object_count_4b > 0:\n",
    "        response_text_4b = response_list_4b[object_count_4b-1].strip()\n",
    "    else:\n",
    "        response_text_4b = \"\"\n",
    "        \n",
    "    return response_text, response_text_8b, response_text_4b"
   ]
  },
  {
   "cell_type": "code",
   "execution_count": 18,
   "id": "591da8f7-f87d-420e-9983-7502c58e708b",
   "metadata": {
    "tags": []
   },
   "outputs": [],
   "source": [
    "import gradio as gr"
   ]
  },
  {
   "cell_type": "code",
   "execution_count": 61,
   "id": "3372118b-e5f8-4a8d-9f17-f8765240b43d",
   "metadata": {
    "tags": []
   },
   "outputs": [
    {
     "name": "stdout",
     "output_type": "stream",
     "text": [
      "Closing server running on port: 7860\n",
      "Closing server running on port: 7860\n",
      "Closing server running on port: 7860\n",
      "Closing server running on port: 7860\n",
      "Closing server running on port: 7860\n",
      "Closing server running on port: 7860\n",
      "Closing server running on port: 7860\n",
      "Closing server running on port: 7860\n"
     ]
    }
   ],
   "source": [
    "gr.close_all()"
   ]
  },
  {
   "cell_type": "code",
   "execution_count": 19,
   "id": "e8983979-736c-4ef8-9a07-80a4e9b6b1e6",
   "metadata": {
    "tags": []
   },
   "outputs": [],
   "source": [
    "# Define a function to handle clearing inputs\n",
    "def clear_inputs(model_type):\n",
    "    return model_type, \"\", \"\", \"\""
   ]
  },
  {
   "cell_type": "code",
   "execution_count": 20,
   "id": "2ce81813-38c1-4d96-a8ec-e49828e9d17e",
   "metadata": {
    "tags": []
   },
   "outputs": [],
   "source": [
    "# Create the Gradio interface\n",
    "with gr.Blocks() as demo:\n",
    "    model_type = gr.Radio(choices=[\"English\", \"Arabic\"], label=\"Select Language\", value=\"English\")\n",
    "    question = gr.Textbox(label=\"Question\", lines=3)\n",
    "    submit_btn = gr.Button(\"Submit\")\n",
    "    output1 = gr.Textbox(label=\"Jais-13b-chat\", lines=3)\n",
    "    output2 = gr.Textbox(label=\"Jais-13b-chat-8b-quantization\", lines=3, elem_classes=\"rtl-text\")\n",
    "    output3 = gr.Textbox(label=\"Jais-13b-chat-4b-quantization\", lines=3, elem_classes=\"rtl-text\")\n",
    "    clear_btn = gr.Button(\"Clear\")\n",
    "\n",
    "    submit_btn.click(create_answer, inputs=[model_type, question], outputs=[output1, output2, output3])\n",
    "    clear_btn.click(clear_inputs, inputs=[model_type], outputs=[model_type, question, output1, output2, output3])\n"
   ]
  },
  {
   "cell_type": "code",
   "execution_count": 21,
   "id": "55d55e42-909a-40ba-a6c9-1c7cb03f7ec9",
   "metadata": {
    "tags": []
   },
   "outputs": [
    {
     "name": "stdout",
     "output_type": "stream",
     "text": [
      "Running on local URL:  http://127.0.0.1:7860\n",
      "Running on public URL: https://9622612b310e9b5302.gradio.live\n",
      "\n",
      "This share link expires in 72 hours. For free permanent hosting and GPU upgrades, run `gradio deploy` from Terminal to deploy to Spaces (https://huggingface.co/spaces)\n"
     ]
    },
    {
     "data": {
      "text/html": [
       "<div><iframe src=\"https://9622612b310e9b5302.gradio.live\" width=\"100%\" height=\"500\" allow=\"autoplay; camera; microphone; clipboard-read; clipboard-write;\" frameborder=\"0\" allowfullscreen></iframe></div>"
      ],
      "text/plain": [
       "<IPython.core.display.HTML object>"
      ]
     },
     "metadata": {},
     "output_type": "display_data"
    },
    {
     "data": {
      "text/plain": []
     },
     "execution_count": 21,
     "metadata": {},
     "output_type": "execute_result"
    },
    {
     "name": "stderr",
     "output_type": "stream",
     "text": [
      "/home/jupyter/venv/lib/python3.10/site-packages/bitsandbytes/autograd/_functions.py:569: UserWarning: Some matrices hidden dimension is not a multiple of 64 and efficient inference kernels are not supported for these (slow). Matrix input size found: torch.Size([1, 1, 13653])\n",
      "  warn(\n"
     ]
    }
   ],
   "source": [
    "demo.launch(share=True)"
   ]
  },
  {
   "cell_type": "code",
   "execution_count": 20,
   "id": "93a3261b-b1ea-4dd4-9a3a-7ed46fb41550",
   "metadata": {
    "tags": []
   },
   "outputs": [
    {
     "name": "stdout",
     "output_type": "stream",
     "text": [
      "Closing server running on port: 7860\n"
     ]
    }
   ],
   "source": [
    "demo.close()"
   ]
  },
  {
   "cell_type": "code",
   "execution_count": null,
   "id": "ee1db165-e8fd-4e0d-99f8-a027869fc7c6",
   "metadata": {},
   "outputs": [],
   "source": []
  },
  {
   "cell_type": "code",
   "execution_count": null,
   "id": "8ec691ea-d33b-40d8-a642-35b0bb5570fa",
   "metadata": {},
   "outputs": [],
   "source": []
  }
 ],
 "metadata": {
  "environment": {
   "kernel": "vent",
   "name": ".m124",
   "type": "gcloud",
   "uri": "us-docker.pkg.dev/deeplearning-platform-release/gcr.io/:m124"
  },
  "kernelspec": {
   "display_name": "vent",
   "language": "python",
   "name": "vent"
  },
  "language_info": {
   "codemirror_mode": {
    "name": "ipython",
    "version": 3
   },
   "file_extension": ".py",
   "mimetype": "text/x-python",
   "name": "python",
   "nbconvert_exporter": "python",
   "pygments_lexer": "ipython3",
   "version": "3.10.14"
  }
 },
 "nbformat": 4,
 "nbformat_minor": 5
}
